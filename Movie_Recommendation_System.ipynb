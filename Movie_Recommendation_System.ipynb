{
  "nbformat": 4,
  "nbformat_minor": 0,
  "metadata": {
    "colab": {
      "name": "*Movie_Recommendation_System.ipynb",
      "provenance": [],
      "collapsed_sections": [],
      "authorship_tag": "ABX9TyNqxukgA2yICvx8U/QdE7fH",
      "include_colab_link": true
    },
    "kernelspec": {
      "name": "python3",
      "display_name": "Python 3"
    },
    "accelerator": "GPU"
  },
  "cells": [
    {
      "cell_type": "markdown",
      "metadata": {
        "id": "view-in-github",
        "colab_type": "text"
      },
      "source": [
        "<a href=\"https://colab.research.google.com/github/alexc6h6/Recommendation-System/blob/master/Movie_Recommendation_System.ipynb\" target=\"_parent\"><img src=\"https://colab.research.google.com/assets/colab-badge.svg\" alt=\"Open In Colab\"/></a>"
      ]
    },
    {
      "cell_type": "code",
      "metadata": {
        "id": "kMAfPOhVD3u8",
        "colab_type": "code",
        "colab": {}
      },
      "source": [
        "from google.colab import drive\n",
        "import pandas as pd\n",
        "import numpy as np\n",
        "import matplotlib.pyplot as plt\n",
        "from tensorflow.keras.models import Model, Sequential\n",
        "from tensorflow.keras.layers import Input, Flatten, Embedding, Dot, Reshape\n",
        "from tensorflow.keras.utils import plot_model\n",
        "from tensorflow.keras import regularizers\n",
        "from sklearn.model_selection import train_test_split\n",
        "from sklearn.preprocessing import LabelEncoder\n",
        "from tensorflow.keras.callbacks import ReduceLROnPlateau\n"
      ],
      "execution_count": 0,
      "outputs": []
    },
    {
      "cell_type": "code",
      "metadata": {
        "id": "2N2du5U0mYpV",
        "colab_type": "code",
        "outputId": "09711cce-1d48-4b4d-9790-86bbe1123825",
        "colab": {
          "base_uri": "https://localhost:8080/",
          "height": 34
        }
      },
      "source": [
        "drive.mount('/content/drive')"
      ],
      "execution_count": 21,
      "outputs": [
        {
          "output_type": "stream",
          "text": [
            "Drive already mounted at /content/drive; to attempt to forcibly remount, call drive.mount(\"/content/drive\", force_remount=True).\n"
          ],
          "name": "stdout"
        }
      ]
    },
    {
      "cell_type": "code",
      "metadata": {
        "id": "nEl6mvk4EsR9",
        "colab_type": "code",
        "colab": {
          "base_uri": "https://localhost:8080/",
          "height": 34
        },
        "outputId": "219d44f1-4efb-42d3-cf69-6fd804769337"
      },
      "source": [
        "!ls '/content/drive/My Drive/ml-latest-small'"
      ],
      "execution_count": 22,
      "outputs": [
        {
          "output_type": "stream",
          "text": [
            "links.csv  movies.csv  ratings.csv  README.txt\ttags.csv\n"
          ],
          "name": "stdout"
        }
      ]
    },
    {
      "cell_type": "code",
      "metadata": {
        "id": "UhVTWzidpLF3",
        "colab_type": "code",
        "outputId": "c178629f-6a58-4751-d63d-3fc9cf67f0aa",
        "colab": {
          "base_uri": "https://localhost:8080/",
          "height": 136
        }
      },
      "source": [
        "data = pd.read_csv('/content/drive/My Drive/ml-latest-small/ratings.csv')\n",
        "\n",
        "print(data.head())\n",
        "print(data.shape)\n"
      ],
      "execution_count": 23,
      "outputs": [
        {
          "output_type": "stream",
          "text": [
            "   userId  movieId  rating  timestamp\n",
            "0       1        1     4.0  964982703\n",
            "1       1        3     4.0  964981247\n",
            "2       1        6     4.0  964982224\n",
            "3       1       47     5.0  964983815\n",
            "4       1       50     5.0  964982931\n",
            "(100836, 4)\n"
          ],
          "name": "stdout"
        }
      ]
    },
    {
      "cell_type": "code",
      "metadata": {
        "id": "nfLEFzR85-5E",
        "colab_type": "code",
        "outputId": "59fa4828-3bba-482a-febc-a10d9aaffb3e",
        "colab": {
          "base_uri": "https://localhost:8080/",
          "height": 153
        }
      },
      "source": [
        "movie = pd.read_csv('/content/drive/My Drive/ml-latest-small/movies.csv')\n",
        "\n",
        "print(movie.head())"
      ],
      "execution_count": 24,
      "outputs": [
        {
          "output_type": "stream",
          "text": [
            "   movieId  ...                                       genres\n",
            "0        1  ...  Adventure|Animation|Children|Comedy|Fantasy\n",
            "1        2  ...                   Adventure|Children|Fantasy\n",
            "2        3  ...                               Comedy|Romance\n",
            "3        4  ...                         Comedy|Drama|Romance\n",
            "4        5  ...                                       Comedy\n",
            "\n",
            "[5 rows x 3 columns]\n"
          ],
          "name": "stdout"
        }
      ]
    },
    {
      "cell_type": "code",
      "metadata": {
        "id": "enaBMhqeFBQX",
        "colab_type": "code",
        "colab": {}
      },
      "source": [
        "user_le = LabelEncoder()\n",
        "data['user_label'] = user_le.fit_transform(data['userId'])"
      ],
      "execution_count": 0,
      "outputs": []
    },
    {
      "cell_type": "code",
      "metadata": {
        "id": "x9j3WhQQFPP1",
        "colab_type": "code",
        "colab": {}
      },
      "source": [
        "movie_le = LabelEncoder()\n",
        "data['movie_label'] = movie_le.fit_transform(data['movieId'])"
      ],
      "execution_count": 0,
      "outputs": []
    },
    {
      "cell_type": "code",
      "metadata": {
        "id": "exXWSOoyzqJX",
        "colab_type": "code",
        "outputId": "434d9e89-1efb-4262-c16c-2abf1a3b93a2",
        "colab": {
          "base_uri": "https://localhost:8080/",
          "height": 119
        }
      },
      "source": [
        "print(data.head())"
      ],
      "execution_count": 27,
      "outputs": [
        {
          "output_type": "stream",
          "text": [
            "   userId  movieId  rating  timestamp  user_label  movie_label\n",
            "0       1        1     4.0  964982703           0            0\n",
            "1       1        3     4.0  964981247           0            2\n",
            "2       1        6     4.0  964982224           0            5\n",
            "3       1       47     5.0  964983815           0           43\n",
            "4       1       50     5.0  964982931           0           46\n"
          ],
          "name": "stdout"
        }
      ]
    },
    {
      "cell_type": "code",
      "metadata": {
        "id": "TsAB2dSHGC4A",
        "colab_type": "code",
        "colab": {
          "base_uri": "https://localhost:8080/",
          "height": 34
        },
        "outputId": "7a989e8f-c58e-4eaa-80d5-0ed92b33180f"
      },
      "source": [
        "n_user = len(data['user_label'].unique())\n",
        "n_movie = len(data['movie_label'].unique())\n",
        "print(n_user, n_movie)"
      ],
      "execution_count": 54,
      "outputs": [
        {
          "output_type": "stream",
          "text": [
            "610 9724\n"
          ],
          "name": "stdout"
        }
      ]
    },
    {
      "cell_type": "code",
      "metadata": {
        "id": "QlrJjbjJsq3L",
        "colab_type": "code",
        "colab": {}
      },
      "source": [
        "n_factor = 8"
      ],
      "execution_count": 0,
      "outputs": []
    },
    {
      "cell_type": "code",
      "metadata": {
        "id": "V4waap6VG-RD",
        "colab_type": "code",
        "colab": {}
      },
      "source": [
        "user_input = Input(shape = [1], name = 'user_input')\n",
        "user_embed = Embedding(n_user, n_factor, name = 'user_embed')(user_input)\n",
        "user_vec = Flatten(name = 'user_vec')(user_embed)"
      ],
      "execution_count": 0,
      "outputs": []
    },
    {
      "cell_type": "code",
      "metadata": {
        "id": "mGiLUC7rHelM",
        "colab_type": "code",
        "colab": {}
      },
      "source": [
        "movie_input = Input(shape = [1], name = 'movie_input')\n",
        "movie_embed = Embedding(n_movie, n_factor, name = 'movie_embed')(movie_input)\n",
        "movie_vec = Flatten(name = 'movie_vec')(movie_embed)"
      ],
      "execution_count": 0,
      "outputs": []
    },
    {
      "cell_type": "code",
      "metadata": {
        "id": "6dxQ8YZCH_Fr",
        "colab_type": "code",
        "colab": {
          "base_uri": "https://localhost:8080/",
          "height": 408
        },
        "outputId": "d7b21195-8125-4fa3-ac46-385db362fff0"
      },
      "source": [
        "prob = Dot(axes = 1, name = 'dot_product')([user_vec, movie_vec])\n",
        "\n",
        "model = Model(inputs = [user_input, movie_input], outputs = prob)\n",
        "\n",
        "model.compile(optimizer = 'adam', loss = 'mse', metrics = ['mse', 'mae'])\n",
        "\n",
        "model.summary()"
      ],
      "execution_count": 58,
      "outputs": [
        {
          "output_type": "stream",
          "text": [
            "Model: \"model_3\"\n",
            "__________________________________________________________________________________________________\n",
            "Layer (type)                    Output Shape         Param #     Connected to                     \n",
            "==================================================================================================\n",
            "user_input (InputLayer)         [(None, 1)]          0                                            \n",
            "__________________________________________________________________________________________________\n",
            "movie_input (InputLayer)        [(None, 1)]          0                                            \n",
            "__________________________________________________________________________________________________\n",
            "user_embed (Embedding)          (None, 1, 8)         4880        user_input[0][0]                 \n",
            "__________________________________________________________________________________________________\n",
            "movie_embed (Embedding)         (None, 1, 8)         77792       movie_input[0][0]                \n",
            "__________________________________________________________________________________________________\n",
            "user_vec (Flatten)              (None, 8)            0           user_embed[0][0]                 \n",
            "__________________________________________________________________________________________________\n",
            "movie_vec (Flatten)             (None, 8)            0           movie_embed[0][0]                \n",
            "__________________________________________________________________________________________________\n",
            "dot_product (Dot)               (None, 1)            0           user_vec[0][0]                   \n",
            "                                                                 movie_vec[0][0]                  \n",
            "==================================================================================================\n",
            "Total params: 82,672\n",
            "Trainable params: 82,672\n",
            "Non-trainable params: 0\n",
            "__________________________________________________________________________________________________\n"
          ],
          "name": "stdout"
        }
      ]
    },
    {
      "cell_type": "code",
      "metadata": {
        "id": "C_Xw1gDAuNbh",
        "colab_type": "code",
        "outputId": "a1fd1ef0-59c2-49c8-c177-30bb3c631434",
        "colab": {
          "base_uri": "https://localhost:8080/",
          "height": 422
        }
      },
      "source": [
        "plot_model(model, show_shapes = True)"
      ],
      "execution_count": 59,
      "outputs": [
        {
          "output_type": "execute_result",
          "data": {
            "image/png": "[encoded data removed]",
            "text/plain": [
              "<IPython.core.display.Image object>"
            ]
          },
          "metadata": {
            "tags": []
          },
          "execution_count": 59
        }
      ]
    },
    {
      "cell_type": "code",
      "metadata": {
        "id": "chkrQ-2vvhns",
        "colab_type": "code",
        "colab": {}
      },
      "source": [
        "train_user = data['user_label'].values.reshape(-1, 1)\n",
        "train_movie = data['movie_label'].values.reshape(-1, 1)\n",
        "train_rating = data['rating'].values.reshape(-1, 1)\n"
      ],
      "execution_count": 0,
      "outputs": []
    },
    {
      "cell_type": "code",
      "metadata": {
        "id": "asRz0NSV0E-b",
        "colab_type": "code",
        "colab": {}
      },
      "source": [
        "reduce_lr = ReduceLROnPlateau(monitor = 'val_loss', patience = 5, min_lr = 0, verbose = 1, factor = 0.33)"
      ],
      "execution_count": 0,
      "outputs": []
    },
    {
      "cell_type": "code",
      "metadata": {
        "id": "D26Kmty5vySm",
        "colab_type": "code",
        "outputId": "f4399c98-8a05-4a06-918c-ec063988425f",
        "colab": {
          "base_uri": "https://localhost:8080/",
          "height": 1000
        }
      },
      "source": [
        "epochs = 50\n",
        "batch = 128\n",
        "\n",
        "train_history = model.fit([train_user, train_movie], train_rating, \n",
        "                          epochs = epochs, \n",
        "                          batch_size = batch,\n",
        "                          verbose = 1, \n",
        "                          validation_split = 0.2, \n",
        "                          callbacks = [reduce_lr])"
      ],
      "execution_count": 67,
      "outputs": [
        {
          "output_type": "stream",
          "text": [
            "Epoch 1/50\n",
            "631/631 [==============================] - 4s 6ms/step - loss: 1.0112 - mse: 1.0112 - mae: 0.7536 - val_loss: 1.0945 - val_mse: 1.0945 - val_mae: 0.7784 - lr: 0.0010\n",
            "Epoch 2/50\n",
            "631/631 [==============================] - 4s 6ms/step - loss: 0.9215 - mse: 0.9215 - mae: 0.7221 - val_loss: 1.0907 - val_mse: 1.0907 - val_mae: 0.7791 - lr: 0.0010\n",
            "Epoch 3/50\n",
            "631/631 [==============================] - 4s 6ms/step - loss: 0.8625 - mse: 0.8625 - mae: 0.7010 - val_loss: 1.0877 - val_mse: 1.0877 - val_mae: 0.7795 - lr: 0.0010\n",
            "Epoch 4/50\n",
            "631/631 [==============================] - 4s 6ms/step - loss: 0.8185 - mse: 0.8185 - mae: 0.6851 - val_loss: 1.0877 - val_mse: 1.0877 - val_mae: 0.7809 - lr: 0.0010\n",
            "Epoch 5/50\n",
            "631/631 [==============================] - 4s 6ms/step - loss: 0.7848 - mse: 0.7848 - mae: 0.6733 - val_loss: 1.0878 - val_mse: 1.0878 - val_mae: 0.7822 - lr: 0.0010\n",
            "Epoch 6/50\n",
            "631/631 [==============================] - 4s 6ms/step - loss: 0.7576 - mse: 0.7576 - mae: 0.6625 - val_loss: 1.0932 - val_mse: 1.0932 - val_mae: 0.7861 - lr: 0.0010\n",
            "Epoch 7/50\n",
            "631/631 [==============================] - 4s 6ms/step - loss: 0.7355 - mse: 0.7355 - mae: 0.6543 - val_loss: 1.0953 - val_mse: 1.0953 - val_mae: 0.7875 - lr: 0.0010\n",
            "Epoch 8/50\n",
            "630/631 [============================>.] - ETA: 0s - loss: 0.7175 - mse: 0.7175 - mae: 0.6472\n",
            "Epoch 00008: ReduceLROnPlateau reducing learning rate to 0.00033000001567415896.\n",
            "631/631 [==============================] - 4s 6ms/step - loss: 0.7175 - mse: 0.7175 - mae: 0.6473 - val_loss: 1.1013 - val_mse: 1.1013 - val_mae: 0.7911 - lr: 0.0010\n",
            "Epoch 9/50\n",
            "631/631 [==============================] - 4s 6ms/step - loss: 0.6846 - mse: 0.6846 - mae: 0.6310 - val_loss: 1.1013 - val_mse: 1.1013 - val_mae: 0.7913 - lr: 3.3000e-04\n",
            "Epoch 10/50\n",
            "631/631 [==============================] - 4s 6ms/step - loss: 0.6792 - mse: 0.6792 - mae: 0.6282 - val_loss: 1.1021 - val_mse: 1.1021 - val_mae: 0.7917 - lr: 3.3000e-04\n",
            "Epoch 11/50\n",
            "631/631 [==============================] - 4s 6ms/step - loss: 0.6744 - mse: 0.6744 - mae: 0.6260 - val_loss: 1.1035 - val_mse: 1.1035 - val_mae: 0.7926 - lr: 3.3000e-04\n",
            "Epoch 12/50\n",
            "631/631 [==============================] - 4s 6ms/step - loss: 0.6700 - mse: 0.6700 - mae: 0.6238 - val_loss: 1.1050 - val_mse: 1.1050 - val_mae: 0.7935 - lr: 3.3000e-04\n",
            "Epoch 13/50\n",
            "626/631 [============================>.] - ETA: 0s - loss: 0.6665 - mse: 0.6665 - mae: 0.6219\n",
            "Epoch 00013: ReduceLROnPlateau reducing learning rate to 0.00010890000325161964.\n",
            "631/631 [==============================] - 4s 6ms/step - loss: 0.6659 - mse: 0.6659 - mae: 0.6217 - val_loss: 1.1067 - val_mse: 1.1067 - val_mae: 0.7943 - lr: 3.3000e-04\n",
            "Epoch 14/50\n",
            "631/631 [==============================] - 4s 6ms/step - loss: 0.6550 - mse: 0.6550 - mae: 0.6159 - val_loss: 1.1073 - val_mse: 1.1073 - val_mae: 0.7947 - lr: 1.0890e-04\n",
            "Epoch 15/50\n",
            "631/631 [==============================] - 4s 6ms/step - loss: 0.6537 - mse: 0.6537 - mae: 0.6152 - val_loss: 1.1078 - val_mse: 1.1078 - val_mae: 0.7949 - lr: 1.0890e-04\n",
            "Epoch 16/50\n",
            "631/631 [==============================] - 4s 6ms/step - loss: 0.6525 - mse: 0.6525 - mae: 0.6145 - val_loss: 1.1083 - val_mse: 1.1083 - val_mae: 0.7952 - lr: 1.0890e-04\n",
            "Epoch 17/50\n",
            "631/631 [==============================] - 4s 6ms/step - loss: 0.6512 - mse: 0.6512 - mae: 0.6138 - val_loss: 1.1089 - val_mse: 1.1089 - val_mae: 0.7955 - lr: 1.0890e-04\n",
            "Epoch 18/50\n",
            "630/631 [============================>.] - ETA: 0s - loss: 0.6500 - mse: 0.6500 - mae: 0.6132\n",
            "Epoch 00018: ReduceLROnPlateau reducing learning rate to 3.5936999920522795e-05.\n",
            "631/631 [==============================] - 4s 6ms/step - loss: 0.6500 - mse: 0.6500 - mae: 0.6132 - val_loss: 1.1095 - val_mse: 1.1095 - val_mae: 0.7958 - lr: 1.0890e-04\n",
            "Epoch 19/50\n",
            "631/631 [==============================] - 4s 6ms/step - loss: 0.6463 - mse: 0.6463 - mae: 0.6111 - val_loss: 1.1097 - val_mse: 1.1097 - val_mae: 0.7960 - lr: 3.5937e-05\n",
            "Epoch 20/50\n",
            "631/631 [==============================] - 4s 6ms/step - loss: 0.6459 - mse: 0.6459 - mae: 0.6109 - val_loss: 1.1099 - val_mse: 1.1099 - val_mae: 0.7961 - lr: 3.5937e-05\n",
            "Epoch 21/50\n",
            "631/631 [==============================] - 4s 6ms/step - loss: 0.6455 - mse: 0.6455 - mae: 0.6106 - val_loss: 1.1100 - val_mse: 1.1100 - val_mae: 0.7962 - lr: 3.5937e-05\n",
            "Epoch 22/50\n",
            "631/631 [==============================] - 4s 6ms/step - loss: 0.6451 - mse: 0.6451 - mae: 0.6104 - val_loss: 1.1102 - val_mse: 1.1102 - val_mae: 0.7963 - lr: 3.5937e-05\n",
            "Epoch 23/50\n",
            "623/631 [============================>.] - ETA: 0s - loss: 0.6455 - mse: 0.6455 - mae: 0.6106\n",
            "Epoch 00023: ReduceLROnPlateau reducing learning rate to 1.185920958960196e-05.\n",
            "631/631 [==============================] - 4s 6ms/step - loss: 0.6447 - mse: 0.6447 - mae: 0.6102 - val_loss: 1.1104 - val_mse: 1.1104 - val_mae: 0.7963 - lr: 3.5937e-05\n",
            "Epoch 24/50\n",
            "631/631 [==============================] - 4s 6ms/step - loss: 0.6435 - mse: 0.6435 - mae: 0.6095 - val_loss: 1.1105 - val_mse: 1.1105 - val_mae: 0.7964 - lr: 1.1859e-05\n",
            "Epoch 25/50\n",
            "631/631 [==============================] - 4s 6ms/step - loss: 0.6434 - mse: 0.6434 - mae: 0.6094 - val_loss: 1.1105 - val_mse: 1.1105 - val_mae: 0.7964 - lr: 1.1859e-05\n",
            "Epoch 26/50\n",
            "631/631 [==============================] - 4s 6ms/step - loss: 0.6433 - mse: 0.6433 - mae: 0.6093 - val_loss: 1.1106 - val_mse: 1.1106 - val_mae: 0.7964 - lr: 1.1859e-05\n",
            "Epoch 27/50\n",
            "631/631 [==============================] - 4s 6ms/step - loss: 0.6431 - mse: 0.6431 - mae: 0.6092 - val_loss: 1.1106 - val_mse: 1.1106 - val_mae: 0.7965 - lr: 1.1859e-05\n",
            "Epoch 28/50\n",
            "625/631 [============================>.] - ETA: 0s - loss: 0.6429 - mse: 0.6429 - mae: 0.6091\n",
            "Epoch 00028: ReduceLROnPlateau reducing learning rate to 3.913539212589967e-06.\n",
            "631/631 [==============================] - 4s 6ms/step - loss: 0.6430 - mse: 0.6430 - mae: 0.6092 - val_loss: 1.1107 - val_mse: 1.1107 - val_mae: 0.7965 - lr: 1.1859e-05\n",
            "Epoch 29/50\n",
            "631/631 [==============================] - 4s 6ms/step - loss: 0.6426 - mse: 0.6426 - mae: 0.6089 - val_loss: 1.1107 - val_mse: 1.1107 - val_mae: 0.7965 - lr: 3.9135e-06\n",
            "Epoch 30/50\n",
            "631/631 [==============================] - 4s 6ms/step - loss: 0.6426 - mse: 0.6426 - mae: 0.6089 - val_loss: 1.1107 - val_mse: 1.1107 - val_mae: 0.7965 - lr: 3.9135e-06\n",
            "Epoch 31/50\n",
            "631/631 [==============================] - 4s 6ms/step - loss: 0.6425 - mse: 0.6425 - mae: 0.6089 - val_loss: 1.1108 - val_mse: 1.1108 - val_mae: 0.7965 - lr: 3.9135e-06\n",
            "Epoch 32/50\n",
            "631/631 [==============================] - 4s 6ms/step - loss: 0.6425 - mse: 0.6425 - mae: 0.6089 - val_loss: 1.1108 - val_mse: 1.1108 - val_mae: 0.7966 - lr: 3.9135e-06\n",
            "Epoch 33/50\n",
            "626/631 [============================>.] - ETA: 0s - loss: 0.6421 - mse: 0.6421 - mae: 0.6087\n",
            "Epoch 00033: ReduceLROnPlateau reducing learning rate to 1.2914679791720119e-06.\n",
            "631/631 [==============================] - 4s 6ms/step - loss: 0.6424 - mse: 0.6424 - mae: 0.6088 - val_loss: 1.1108 - val_mse: 1.1108 - val_mae: 0.7966 - lr: 3.9135e-06\n",
            "Epoch 34/50\n",
            "631/631 [==============================] - 4s 6ms/step - loss: 0.6423 - mse: 0.6423 - mae: 0.6088 - val_loss: 1.1108 - val_mse: 1.1108 - val_mae: 0.7966 - lr: 1.2915e-06\n",
            "Epoch 35/50\n",
            "631/631 [==============================] - 4s 6ms/step - loss: 0.6423 - mse: 0.6423 - mae: 0.6088 - val_loss: 1.1108 - val_mse: 1.1108 - val_mae: 0.7966 - lr: 1.2915e-06\n",
            "Epoch 36/50\n",
            "631/631 [==============================] - 4s 6ms/step - loss: 0.6423 - mse: 0.6423 - mae: 0.6087 - val_loss: 1.1108 - val_mse: 1.1108 - val_mae: 0.7966 - lr: 1.2915e-06\n",
            "Epoch 37/50\n",
            "631/631 [==============================] - 4s 6ms/step - loss: 0.6423 - mse: 0.6423 - mae: 0.6087 - val_loss: 1.1108 - val_mse: 1.1108 - val_mae: 0.7966 - lr: 1.2915e-06\n",
            "Epoch 38/50\n",
            "624/631 [============================>.] - ETA: 0s - loss: 0.6425 - mse: 0.6425 - mae: 0.6089\n",
            "Epoch 00038: ReduceLROnPlateau reducing learning rate to 4.2618441511876884e-07.\n",
            "631/631 [==============================] - 4s 6ms/step - loss: 0.6423 - mse: 0.6423 - mae: 0.6087 - val_loss: 1.1108 - val_mse: 1.1108 - val_mae: 0.7966 - lr: 1.2915e-06\n",
            "Epoch 39/50\n",
            "631/631 [==============================] - 4s 6ms/step - loss: 0.6422 - mse: 0.6422 - mae: 0.6087 - val_loss: 1.1108 - val_mse: 1.1108 - val_mae: 0.7966 - lr: 4.2618e-07\n",
            "Epoch 40/50\n",
            "631/631 [==============================] - 4s 6ms/step - loss: 0.6422 - mse: 0.6422 - mae: 0.6087 - val_loss: 1.1108 - val_mse: 1.1108 - val_mae: 0.7966 - lr: 4.2618e-07\n",
            "Epoch 41/50\n",
            "631/631 [==============================] - 4s 6ms/step - loss: 0.6422 - mse: 0.6422 - mae: 0.6087 - val_loss: 1.1108 - val_mse: 1.1108 - val_mae: 0.7966 - lr: 4.2618e-07\n",
            "Epoch 42/50\n",
            "631/631 [==============================] - 4s 6ms/step - loss: 0.6422 - mse: 0.6422 - mae: 0.6087 - val_loss: 1.1108 - val_mse: 1.1108 - val_mae: 0.7966 - lr: 4.2618e-07\n",
            "Epoch 43/50\n",
            "626/631 [============================>.] - ETA: 0s - loss: 0.6429 - mse: 0.6429 - mae: 0.6089\n",
            "Epoch 00043: ReduceLROnPlateau reducing learning rate to 1.4064085661402716e-07.\n",
            "631/631 [==============================] - 4s 6ms/step - loss: 0.6422 - mse: 0.6422 - mae: 0.6087 - val_loss: 1.1108 - val_mse: 1.1108 - val_mae: 0.7966 - lr: 4.2618e-07\n",
            "Epoch 44/50\n",
            "631/631 [==============================] - 4s 6ms/step - loss: 0.6422 - mse: 0.6422 - mae: 0.6087 - val_loss: 1.1108 - val_mse: 1.1108 - val_mae: 0.7966 - lr: 1.4064e-07\n",
            "Epoch 45/50\n",
            "631/631 [==============================] - 4s 6ms/step - loss: 0.6422 - mse: 0.6422 - mae: 0.6087 - val_loss: 1.1108 - val_mse: 1.1108 - val_mae: 0.7966 - lr: 1.4064e-07\n",
            "Epoch 46/50\n",
            "631/631 [==============================] - 4s 6ms/step - loss: 0.6422 - mse: 0.6422 - mae: 0.6087 - val_loss: 1.1108 - val_mse: 1.1108 - val_mae: 0.7966 - lr: 1.4064e-07\n",
            "Epoch 47/50\n",
            "631/631 [==============================] - 4s 6ms/step - loss: 0.6422 - mse: 0.6422 - mae: 0.6087 - val_loss: 1.1108 - val_mse: 1.1108 - val_mae: 0.7966 - lr: 1.4064e-07\n",
            "Epoch 48/50\n",
            "622/631 [============================>.] - ETA: 0s - loss: 0.6422 - mse: 0.6422 - mae: 0.6087\n",
            "Epoch 00048: ReduceLROnPlateau reducing learning rate to 4.641148052542121e-08.\n",
            "631/631 [==============================] - 4s 6ms/step - loss: 0.6422 - mse: 0.6422 - mae: 0.6087 - val_loss: 1.1108 - val_mse: 1.1108 - val_mae: 0.7966 - lr: 1.4064e-07\n",
            "Epoch 49/50\n",
            "631/631 [==============================] - 4s 6ms/step - loss: 0.6422 - mse: 0.6422 - mae: 0.6087 - val_loss: 1.1108 - val_mse: 1.1108 - val_mae: 0.7966 - lr: 4.6411e-08\n",
            "Epoch 50/50\n",
            "631/631 [==============================] - 4s 6ms/step - loss: 0.6422 - mse: 0.6422 - mae: 0.6087 - val_loss: 1.1108 - val_mse: 1.1108 - val_mae: 0.7966 - lr: 4.6411e-08\n"
          ],
          "name": "stdout"
        }
      ]
    },
    {
      "cell_type": "code",
      "metadata": {
        "id": "5NRs57wdwdOM",
        "colab_type": "code",
        "colab": {
          "base_uri": "https://localhost:8080/",
          "height": 573
        },
        "outputId": "90d85fe7-3049-404e-8a8f-99034c88779a"
      },
      "source": [
        "\n",
        "\n",
        "def show_train_history_mae(train_history):\n",
        "    plt.plot(train_history.history['mae'])\n",
        "    plt.plot(train_history.history['val_mae'])\n",
        "    plt.title('Train History')\n",
        "    plt.xlabel('Epoch')\n",
        "    plt.ylabel('MAE')\n",
        "    plt.legend([\"train\"], loc=\"upper left\")\n",
        "    plt.show()\n",
        "\n",
        "def show_train_history_loss(train_history):\n",
        "    plt.plot(train_history.history[\"loss\"])\n",
        "    plt.plot(train_history.history[\"val_loss\"])\n",
        "    plt.title(\"Train History\")\n",
        "    plt.xlabel(\"Epoch\")\n",
        "    plt.ylabel(\"Loss\")\n",
        "    plt.legend([\"train\"], loc=\"upper left\")\n",
        "    plt.show()\n",
        "\n",
        "show_train_history_mae(train_history)    \n",
        "show_train_history_loss(train_history)"
      ],
      "execution_count": 69,
      "outputs": [
        {
          "output_type": "display_data",
          "data": {
            "image/png": "[encoded data removed]",
            "text/plain": [
              "<Figure size 432x288 with 1 Axes>"
            ]
          },
          "metadata": {
            "tags": [],
            "needs_background": "light"
          }
        },
        {
          "output_type": "display_data",
          "data": {
            "image/png": "[encoded data removed]",
            "text/plain": [
              "<Figure size 432x288 with 1 Axes>"
            ]
          },
          "metadata": {
            "tags": [],
            "needs_background": "light"
          }
        }
      ]
    },
    {
      "cell_type": "code",
      "metadata": {
        "id": "b9Ts2OSQOo0q",
        "colab_type": "code",
        "colab": {}
      },
      "source": [
        ""
      ],
      "execution_count": 0,
      "outputs": []
    }
  ]
}